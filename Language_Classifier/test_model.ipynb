{
 "cells": [
  {
   "cell_type": "code",
   "execution_count": 1,
   "id": "7e0ae510",
   "metadata": {},
   "outputs": [
    {
     "name": "stderr",
     "output_type": "stream",
     "text": [
      "2023-07-20 15:49:06.622370: I tensorflow/tsl/cuda/cudart_stub.cc:28] Could not find cuda drivers on your machine, GPU will not be used.\n",
      "2023-07-20 15:49:06.680657: I tensorflow/tsl/cuda/cudart_stub.cc:28] Could not find cuda drivers on your machine, GPU will not be used.\n",
      "2023-07-20 15:49:06.682300: I tensorflow/core/platform/cpu_feature_guard.cc:182] This TensorFlow binary is optimized to use available CPU instructions in performance-critical operations.\n",
      "To enable the following instructions: AVX2 FMA, in other operations, rebuild TensorFlow with the appropriate compiler flags.\n",
      "2023-07-20 15:49:08.006932: W tensorflow/compiler/tf2tensorrt/utils/py_utils.cc:38] TF-TRT Warning: Could not find TensorRT\n",
      "/home/natius/anaconda3/lib/python3.9/site-packages/scipy/__init__.py:146: UserWarning: A NumPy version >=1.16.5 and <1.23.0 is required for this version of SciPy (detected version 1.25.1\n",
      "  warnings.warn(f\"A NumPy version >={np_minversion} and <{np_maxversion}\"\n"
     ]
    }
   ],
   "source": [
    "import pickle\n",
    "from tensorflow.keras.preprocessing.sequence import pad_sequences\n",
    "import numpy as np\n",
    "\n"
   ]
  },
  {
   "cell_type": "code",
   "execution_count": 2,
   "id": "a3f39cf9",
   "metadata": {},
   "outputs": [],
   "source": [
    "with open(\"tokenizer.pickle\", \"rb\") as _tok:\n",
    "    tokenizer = pickle.load(_tok)"
   ]
  },
  {
   "cell_type": "code",
   "execution_count": 3,
   "id": "279469f2",
   "metadata": {},
   "outputs": [],
   "source": [
    "with open(\"model_1.pickle\", \"rb\") as _model:\n",
    "    model = pickle.load(_model)"
   ]
  },
  {
   "cell_type": "code",
   "execution_count": 4,
   "id": "617a8de6",
   "metadata": {},
   "outputs": [],
   "source": [
    "max_len = 150\n",
    "lang_dict = {\n",
    "    0 : \"eng\",\n",
    "    1 : \"lug\",\n",
    "    2 : \"ach\",\n",
    "    3 : \"teo\",\n",
    "    4 : \"lgg\",\n",
    "    5 : \"nyn\"\n",
    "}\n",
    "\n",
    "def detect_language(text: str):\n",
    "    text_sequence = tokenizer.texts_to_sequences([text])\n",
    "    print(text_sequence)\n",
    "    text_padded_sequence = pad_sequences(text_sequence, maxlen=max_len)\n",
    "    prediction = model.predict(text_padded_sequence)\n",
    "    predicted_class = np.argmax(prediction)\n",
    "    \n",
    "    for lang in lang_dict:\n",
    "        if lang == predicted_class:\n",
    "            return lang_dict[lang]\n",
    "        "
   ]
  },
  {
   "cell_type": "code",
   "execution_count": 5,
   "id": "bfe287e8",
   "metadata": {},
   "outputs": [
    {
     "name": "stdout",
     "output_type": "stream",
     "text": [
      "[[6, 15, 2, 12, 11, 2, 1, 16, 16, 24, 1, 1, 12, 11, 4, 4, 9, 2]]\n",
      "1/1 [==============================] - 0s 480ms/step\n"
     ]
    },
    {
     "data": {
      "text/plain": [
       "'lug'"
      ]
     },
     "execution_count": 5,
     "metadata": {},
     "output_type": "execute_result"
    }
   ],
   "source": [
    "detect_language(\"ngamba ;'-ddj ' mbeera\")"
   ]
  },
  {
   "cell_type": "code",
   "execution_count": null,
   "id": "25aa8587",
   "metadata": {},
   "outputs": [],
   "source": []
  }
 ],
 "metadata": {
  "kernelspec": {
   "display_name": "Python 3 (ipykernel)",
   "language": "python",
   "name": "python3"
  },
  "language_info": {
   "codemirror_mode": {
    "name": "ipython",
    "version": 3
   },
   "file_extension": ".py",
   "mimetype": "text/x-python",
   "name": "python",
   "nbconvert_exporter": "python",
   "pygments_lexer": "ipython3",
   "version": "3.9.12"
  }
 },
 "nbformat": 4,
 "nbformat_minor": 5
}

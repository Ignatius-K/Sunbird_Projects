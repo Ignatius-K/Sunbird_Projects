{
 "cells": [
  {
   "cell_type": "code",
   "execution_count": 1,
   "id": "17f147f7",
   "metadata": {},
   "outputs": [],
   "source": [
    "import pandas as pd\n",
    "import json as js\n",
    "import os"
   ]
  },
  {
   "cell_type": "code",
   "execution_count": 2,
   "id": "bacc629b",
   "metadata": {},
   "outputs": [],
   "source": [
    "\"\"\"\n",
    " * convert_txt_json - converts text to json format\n",
    " *\n",
    " * @txt: text to be converted\n",
    " * \n",
    " * Return: JSON object \n",
    " *\n",
    "\"\"\"\n",
    "def convert_txt_json(txt: str):\n",
    "    return js.loads(txt)\n",
    "\n",
    "\n",
    "\"\"\"\n",
    " * convert_json_df - converts json to dataframe\n",
    " *\n",
    " * @json_obj: json object to be converted\n",
    " * \n",
    " * Return: Dataframe\n",
    " *\n",
    "\"\"\"\n",
    "def convert_json_df(json_obj):\n",
    "    tmp_list = []\n",
    "    for lang in json_obj[\"text\"]:\n",
    "        tmp_list.append(\n",
    "            {\n",
    "                \"text\": json_obj[\"text\"][lang],\n",
    "                \"lang\": lang\n",
    "            }\n",
    "        )\n",
    "\n",
    "    return pd.DataFrame(tmp_list)\n",
    "    \n",
    "    "
   ]
  },
  {
   "cell_type": "code",
   "execution_count": 3,
   "id": "402db61b",
   "metadata": {},
   "outputs": [],
   "source": [
    "data_files = [\"salt-dev-v1.2.jsonl\", \"salt-train-v1.2.jsonl\", \"salt-test-v1.2.jsonl\"]\n",
    "\n",
    "work_dir = os.getcwd()\n",
    "csv_data_dir = f\"{work_dir}/csv_data\"\n",
    "\n",
    "if not os.path.exists(csv_data_dir):\n",
    "    try:\n",
    "        os.mkdir(csv_data_dir)\n",
    "        \n",
    "    except Exception as e:\n",
    "        print(e)\n",
    "        csv_data_dir = work_dir\n",
    "    \n",
    "    finally:\n",
    "        pass\n",
    "\n",
    "for filename in data_files:\n",
    "    data_file_name = f\"{filename.split('.')[0]}.csv\"\n",
    "\n",
    "    data = pd.DataFrame()\n",
    "\n",
    "    with open (filename, \"r\") as file_buffer:\n",
    "        for line in file_buffer:\n",
    "            json_data = convert_txt_json(txt=line)\n",
    "            tmp_df = convert_json_df(json_obj=json_data)\n",
    "            data = pd.concat([data, tmp_df], ignore_index=True)\n",
    "\n",
    "    data.to_csv(f\"{csv_data_dir}/{data_file_name}\", index=False)"
   ]
  },
  {
   "cell_type": "code",
   "execution_count": null,
   "id": "84a7c2ef",
   "metadata": {},
   "outputs": [],
   "source": []
  }
 ],
 "metadata": {
  "kernelspec": {
   "display_name": "Python 3 (ipykernel)",
   "language": "python",
   "name": "python3"
  },
  "language_info": {
   "codemirror_mode": {
    "name": "ipython",
    "version": 3
   },
   "file_extension": ".py",
   "mimetype": "text/x-python",
   "name": "python",
   "nbconvert_exporter": "python",
   "pygments_lexer": "ipython3",
   "version": "3.9.12"
  }
 },
 "nbformat": 4,
 "nbformat_minor": 5
}

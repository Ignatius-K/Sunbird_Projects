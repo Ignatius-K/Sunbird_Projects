{
 "cells": [
  {
   "cell_type": "code",
   "execution_count": 30,
   "id": "dc13930d",
   "metadata": {},
   "outputs": [],
   "source": [
    "import string\n",
    "\n",
    "import pandas as pd\n",
    "import numpy as np\n",
    "import tensorflow as tf\n",
    "from tensorflow.keras.models import Sequential\n",
    "from tensorflow.keras.layers import Embedding, LSTM, Dense, GlobalMaxPooling1D\n",
    "from tensorflow.keras.preprocessing.text import Tokenizer\n",
    "from tensorflow.keras.preprocessing.sequence import pad_sequences\n",
    "from sklearn.model_selection import train_test_split\n",
    "from tensorflow.keras.utils import to_categorical\n",
    "\n",
    "import warnings\n",
    "warnings.filterwarnings(\"ignore\")\n",
    "\n",
    "data = pd.read_csv(\"csv_data/salt-train-v1.csv\")\n",
    "data.dropna(axis=0, inplace=True)"
   ]
  },
  {
   "cell_type": "code",
   "execution_count": 31,
   "id": "fbb51de1",
   "metadata": {},
   "outputs": [],
   "source": [
    "\"\"\"\n",
    " * transform_txt_col -- transforms the text column\n",
    " * \n",
    " * @text <str>: text to transform\n",
    " * \n",
    " * Description: \n",
    " * Removes the trailing full stop\n",
    " * Removes words less than 3 characters\n",
    " * Changes words to lowercase\n",
    " *\n",
    " * Return: transformed text\n",
    "\"\"\"\n",
    "def transform_txt_col(text: str)-> str:\n",
    "    \n",
    "    text = text.strip(\".\")\n",
    "    text = \" \".join([ word.lower() for word in text.split(\" \") if len(word) > 2 ])\n",
    "    text = remove_non_ascii_chars(text)\n",
    "                     \n",
    "    return text\n",
    "\n",
    "                     \n",
    "\"\"\"\n",
    " * remove_non_ascii_chars -- deletes characters\n",
    " * \n",
    " * @text <str>: text to delete characters from \n",
    " *\n",
    " * Depends: none_ascii_chars <list of non-ascii characters>\n",
    " *\n",
    " * Return: formatted text\n",
    "\"\"\"\n",
    "def remove_non_ascii_chars(text: str)->str:\n",
    "    for character in none_ascii_chars:\n",
    "        if character in text:\n",
    "            text = text.replace(character, \"\")\n",
    "    return text\n"
   ]
  },
  {
   "cell_type": "code",
   "execution_count": 32,
   "id": "6b8c7cae",
   "metadata": {},
   "outputs": [],
   "source": [
    "# get uncommon characters\n",
    "ascii_chars = set(string.ascii_lowercase)\n",
    "full_corpus_uniq_chars = set(\"\".join([text for text in data.text])) # all characters in the text data\n",
    "none_ascii_chars = full_corpus_uniq_chars.difference(ascii_chars)\n",
    "none_ascii_chars.remove(\" \") # remove the \\0 character"
   ]
  },
  {
   "cell_type": "code",
   "execution_count": 33,
   "id": "3668f688",
   "metadata": {},
   "outputs": [],
   "source": [
    "data['text'] = data['text'].apply(transform_txt_col)\n",
    "\n",
    "data['len_text'] = data['text'].str.len()\n",
    "data['unique_chars'] = data['text'].str.join(\"\").apply(set).apply(len) # no of unique chars in text"
   ]
  },
  {
   "cell_type": "code",
   "execution_count": 34,
   "id": "90ad23f7",
   "metadata": {},
   "outputs": [
    {
     "data": {
      "text/html": [
       "<div>\n",
       "<style scoped>\n",
       "    .dataframe tbody tr th:only-of-type {\n",
       "        vertical-align: middle;\n",
       "    }\n",
       "\n",
       "    .dataframe tbody tr th {\n",
       "        vertical-align: top;\n",
       "    }\n",
       "\n",
       "    .dataframe thead th {\n",
       "        text-align: right;\n",
       "    }\n",
       "</style>\n",
       "<table border=\"1\" class=\"dataframe\">\n",
       "  <thead>\n",
       "    <tr style=\"text-align: right;\">\n",
       "      <th></th>\n",
       "      <th>text</th>\n",
       "      <th>lang</th>\n",
       "      <th>len_text</th>\n",
       "      <th>unique_chars</th>\n",
       "    </tr>\n",
       "  </thead>\n",
       "  <tbody>\n",
       "    <tr>\n",
       "      <th>0</th>\n",
       "      <td>was not ghost refugee camp</td>\n",
       "      <td>eng</td>\n",
       "      <td>26</td>\n",
       "      <td>16</td>\n",
       "    </tr>\n",
       "    <tr>\n",
       "      <th>1</th>\n",
       "      <td>enkambi yabanoonyiboobubudamu teyaliiwo bulimba</td>\n",
       "      <td>lug</td>\n",
       "      <td>47</td>\n",
       "      <td>15</td>\n",
       "    </tr>\n",
       "    <tr>\n",
       "      <th>2</th>\n",
       "      <td>obedo kem goba goba</td>\n",
       "      <td>ach</td>\n",
       "      <td>19</td>\n",
       "      <td>9</td>\n",
       "    </tr>\n",
       "    <tr>\n",
       "      <th>3</th>\n",
       "      <td>mam arai ekabi erai ekwam</td>\n",
       "      <td>teo</td>\n",
       "      <td>25</td>\n",
       "      <td>9</td>\n",
       "    </tr>\n",
       "    <tr>\n",
       "      <th>4</th>\n",
       "      <td>eri aani ndra kembe emunyale eyini aazu inzoru</td>\n",
       "      <td>lgg</td>\n",
       "      <td>46</td>\n",
       "      <td>15</td>\n",
       "    </tr>\n",
       "  </tbody>\n",
       "</table>\n",
       "</div>"
      ],
      "text/plain": [
       "                                              text lang  len_text  \\\n",
       "0                       was not ghost refugee camp  eng        26   \n",
       "1  enkambi yabanoonyiboobubudamu teyaliiwo bulimba  lug        47   \n",
       "2                              obedo kem goba goba  ach        19   \n",
       "3                        mam arai ekabi erai ekwam  teo        25   \n",
       "4   eri aani ndra kembe emunyale eyini aazu inzoru  lgg        46   \n",
       "\n",
       "   unique_chars  \n",
       "0            16  \n",
       "1            15  \n",
       "2             9  \n",
       "3             9  \n",
       "4            15  "
      ]
     },
     "execution_count": 34,
     "metadata": {},
     "output_type": "execute_result"
    }
   ],
   "source": [
    "data.head()"
   ]
  },
  {
   "cell_type": "code",
   "execution_count": 5,
   "id": "ee4c5911",
   "metadata": {},
   "outputs": [],
   "source": [
    "# remove empty text\n",
    "data = data[data.text != \"\"]"
   ]
  },
  {
   "cell_type": "code",
   "execution_count": 6,
   "id": "5fca9eec",
   "metadata": {},
   "outputs": [],
   "source": [
    "# data.describe()"
   ]
  },
  {
   "cell_type": "code",
   "execution_count": 7,
   "id": "ba2be03c",
   "metadata": {},
   "outputs": [
    {
     "data": {
      "text/html": [
       "<div>\n",
       "<style scoped>\n",
       "    .dataframe tbody tr th:only-of-type {\n",
       "        vertical-align: middle;\n",
       "    }\n",
       "\n",
       "    .dataframe tbody tr th {\n",
       "        vertical-align: top;\n",
       "    }\n",
       "\n",
       "    .dataframe thead th {\n",
       "        text-align: right;\n",
       "    }\n",
       "</style>\n",
       "<table border=\"1\" class=\"dataframe\">\n",
       "  <thead>\n",
       "    <tr style=\"text-align: right;\">\n",
       "      <th></th>\n",
       "      <th>len_text</th>\n",
       "      <th>unique_chars</th>\n",
       "    </tr>\n",
       "  </thead>\n",
       "  <tbody>\n",
       "    <tr>\n",
       "      <th>count</th>\n",
       "      <td>23947.000000</td>\n",
       "      <td>23947.000000</td>\n",
       "    </tr>\n",
       "    <tr>\n",
       "      <th>mean</th>\n",
       "      <td>48.094083</td>\n",
       "      <td>17.092454</td>\n",
       "    </tr>\n",
       "    <tr>\n",
       "      <th>std</th>\n",
       "      <td>16.810643</td>\n",
       "      <td>2.466982</td>\n",
       "    </tr>\n",
       "    <tr>\n",
       "      <th>min</th>\n",
       "      <td>6.000000</td>\n",
       "      <td>5.000000</td>\n",
       "    </tr>\n",
       "    <tr>\n",
       "      <th>25%</th>\n",
       "      <td>36.000000</td>\n",
       "      <td>16.000000</td>\n",
       "    </tr>\n",
       "    <tr>\n",
       "      <th>50%</th>\n",
       "      <td>47.000000</td>\n",
       "      <td>17.000000</td>\n",
       "    </tr>\n",
       "    <tr>\n",
       "      <th>75%</th>\n",
       "      <td>59.000000</td>\n",
       "      <td>19.000000</td>\n",
       "    </tr>\n",
       "    <tr>\n",
       "      <th>max</th>\n",
       "      <td>130.000000</td>\n",
       "      <td>24.000000</td>\n",
       "    </tr>\n",
       "  </tbody>\n",
       "</table>\n",
       "</div>"
      ],
      "text/plain": [
       "           len_text  unique_chars\n",
       "count  23947.000000  23947.000000\n",
       "mean      48.094083     17.092454\n",
       "std       16.810643      2.466982\n",
       "min        6.000000      5.000000\n",
       "25%       36.000000     16.000000\n",
       "50%       47.000000     17.000000\n",
       "75%       59.000000     19.000000\n",
       "max      130.000000     24.000000"
      ]
     },
     "execution_count": 7,
     "metadata": {},
     "output_type": "execute_result"
    }
   ],
   "source": [
    "data[data.lang == \"eng\"].describe()"
   ]
  },
  {
   "cell_type": "code",
   "execution_count": 35,
   "id": "b7b182fc",
   "metadata": {},
   "outputs": [
    {
     "data": {
      "text/html": [
       "<div>\n",
       "<style scoped>\n",
       "    .dataframe tbody tr th:only-of-type {\n",
       "        vertical-align: middle;\n",
       "    }\n",
       "\n",
       "    .dataframe tbody tr th {\n",
       "        vertical-align: top;\n",
       "    }\n",
       "\n",
       "    .dataframe thead th {\n",
       "        text-align: right;\n",
       "    }\n",
       "</style>\n",
       "<table border=\"1\" class=\"dataframe\">\n",
       "  <thead>\n",
       "    <tr style=\"text-align: right;\">\n",
       "      <th></th>\n",
       "      <th>len_text</th>\n",
       "      <th>unique_chars</th>\n",
       "    </tr>\n",
       "  </thead>\n",
       "  <tbody>\n",
       "    <tr>\n",
       "      <th>count</th>\n",
       "      <td>23947.000000</td>\n",
       "      <td>23947.000000</td>\n",
       "    </tr>\n",
       "    <tr>\n",
       "      <th>mean</th>\n",
       "      <td>52.932225</td>\n",
       "      <td>16.215184</td>\n",
       "    </tr>\n",
       "    <tr>\n",
       "      <th>std</th>\n",
       "      <td>20.113512</td>\n",
       "      <td>2.496002</td>\n",
       "    </tr>\n",
       "    <tr>\n",
       "      <th>min</th>\n",
       "      <td>6.000000</td>\n",
       "      <td>4.000000</td>\n",
       "    </tr>\n",
       "    <tr>\n",
       "      <th>25%</th>\n",
       "      <td>38.000000</td>\n",
       "      <td>15.000000</td>\n",
       "    </tr>\n",
       "    <tr>\n",
       "      <th>50%</th>\n",
       "      <td>51.000000</td>\n",
       "      <td>16.000000</td>\n",
       "    </tr>\n",
       "    <tr>\n",
       "      <th>75%</th>\n",
       "      <td>66.000000</td>\n",
       "      <td>18.000000</td>\n",
       "    </tr>\n",
       "    <tr>\n",
       "      <th>max</th>\n",
       "      <td>153.000000</td>\n",
       "      <td>24.000000</td>\n",
       "    </tr>\n",
       "  </tbody>\n",
       "</table>\n",
       "</div>"
      ],
      "text/plain": [
       "           len_text  unique_chars\n",
       "count  23947.000000  23947.000000\n",
       "mean      52.932225     16.215184\n",
       "std       20.113512      2.496002\n",
       "min        6.000000      4.000000\n",
       "25%       38.000000     15.000000\n",
       "50%       51.000000     16.000000\n",
       "75%       66.000000     18.000000\n",
       "max      153.000000     24.000000"
      ]
     },
     "execution_count": 35,
     "metadata": {},
     "output_type": "execute_result"
    }
   ],
   "source": [
    "data[data.lang == \"lug\"].describe()"
   ]
  },
  {
   "cell_type": "code",
   "execution_count": 9,
   "id": "19bffa43",
   "metadata": {},
   "outputs": [],
   "source": [
    "# data[data.lang == \"ach\"].describe()"
   ]
  },
  {
   "cell_type": "code",
   "execution_count": 10,
   "id": "80f73efd",
   "metadata": {},
   "outputs": [],
   "source": [
    "# data[data.lang == \"teo\"].describe()"
   ]
  },
  {
   "cell_type": "code",
   "execution_count": 11,
   "id": "380581a2",
   "metadata": {},
   "outputs": [],
   "source": [
    "# data[data.lang == \"lgg\"].describe()"
   ]
  },
  {
   "cell_type": "code",
   "execution_count": 36,
   "id": "f336f6ac",
   "metadata": {},
   "outputs": [
    {
     "data": {
      "text/html": [
       "<div>\n",
       "<style scoped>\n",
       "    .dataframe tbody tr th:only-of-type {\n",
       "        vertical-align: middle;\n",
       "    }\n",
       "\n",
       "    .dataframe tbody tr th {\n",
       "        vertical-align: top;\n",
       "    }\n",
       "\n",
       "    .dataframe thead th {\n",
       "        text-align: right;\n",
       "    }\n",
       "</style>\n",
       "<table border=\"1\" class=\"dataframe\">\n",
       "  <thead>\n",
       "    <tr style=\"text-align: right;\">\n",
       "      <th></th>\n",
       "      <th>len_text</th>\n",
       "      <th>unique_chars</th>\n",
       "    </tr>\n",
       "  </thead>\n",
       "  <tbody>\n",
       "    <tr>\n",
       "      <th>count</th>\n",
       "      <td>23947.000000</td>\n",
       "      <td>23947.000000</td>\n",
       "    </tr>\n",
       "    <tr>\n",
       "      <th>mean</th>\n",
       "      <td>56.254520</td>\n",
       "      <td>16.257485</td>\n",
       "    </tr>\n",
       "    <tr>\n",
       "      <th>std</th>\n",
       "      <td>21.544976</td>\n",
       "      <td>2.232146</td>\n",
       "    </tr>\n",
       "    <tr>\n",
       "      <th>min</th>\n",
       "      <td>5.000000</td>\n",
       "      <td>5.000000</td>\n",
       "    </tr>\n",
       "    <tr>\n",
       "      <th>25%</th>\n",
       "      <td>41.000000</td>\n",
       "      <td>15.000000</td>\n",
       "    </tr>\n",
       "    <tr>\n",
       "      <th>50%</th>\n",
       "      <td>54.000000</td>\n",
       "      <td>16.000000</td>\n",
       "    </tr>\n",
       "    <tr>\n",
       "      <th>75%</th>\n",
       "      <td>69.000000</td>\n",
       "      <td>18.000000</td>\n",
       "    </tr>\n",
       "    <tr>\n",
       "      <th>max</th>\n",
       "      <td>185.000000</td>\n",
       "      <td>24.000000</td>\n",
       "    </tr>\n",
       "  </tbody>\n",
       "</table>\n",
       "</div>"
      ],
      "text/plain": [
       "           len_text  unique_chars\n",
       "count  23947.000000  23947.000000\n",
       "mean      56.254520     16.257485\n",
       "std       21.544976      2.232146\n",
       "min        5.000000      5.000000\n",
       "25%       41.000000     15.000000\n",
       "50%       54.000000     16.000000\n",
       "75%       69.000000     18.000000\n",
       "max      185.000000     24.000000"
      ]
     },
     "execution_count": 36,
     "metadata": {},
     "output_type": "execute_result"
    }
   ],
   "source": [
    "data[data.lang == \"nyn\"].describe()"
   ]
  },
  {
   "cell_type": "code",
   "execution_count": 13,
   "id": "fb0001aa",
   "metadata": {},
   "outputs": [],
   "source": [
    "train_data = data[['text', 'lang']]"
   ]
  },
  {
   "cell_type": "code",
   "execution_count": 14,
   "id": "8a0b0cc7",
   "metadata": {},
   "outputs": [],
   "source": [
    "replace_dict = {\n",
    "    \"eng\": 0,\n",
    "    \"lug\": 1,\n",
    "    \"ach\": 2,\n",
    "    \"teo\": 3,\n",
    "    \"lgg\": 4,\n",
    "    \"nyn\": 5\n",
    "}\n",
    "\n",
    "train_data['lang'] = train_data.lang.map(replace_dict)"
   ]
  },
  {
   "cell_type": "code",
   "execution_count": 15,
   "id": "c8063509",
   "metadata": {
    "scrolled": true
   },
   "outputs": [],
   "source": [
    "# train_data.head()"
   ]
  },
  {
   "cell_type": "code",
   "execution_count": 17,
   "id": "dd0761f1",
   "metadata": {},
   "outputs": [],
   "source": [
    "texts = train_data['text']\n",
    "labels = train_data['lang']"
   ]
  },
  {
   "cell_type": "code",
   "execution_count": 18,
   "id": "0cb80d8f",
   "metadata": {},
   "outputs": [
    {
     "name": "stdout",
     "output_type": "stream",
     "text": [
      "Found 28 unique characters.\n",
      "[18, 2, 13, 1, 6, 5, 10, 1, 15, 19, 5, 13, 10, 1, 9, 4, 23, 7, 15, 4, 4, 1, 21, 2, 12, 20]\n",
      "[ 0  0  0  0  0  0  0  0  0  0  0  0  0  0  0  0  0  0  0  0  0  0  0  0\n",
      "  0  0  0  0  0  0  0  0  0  0  0  0  0  0  0  0  0  0  0  0  0  0  0  0\n",
      "  0  0  0  0  0  0  0  0  0  0  0  0  0  0  0  0  0  0  0  0  0  0  0  0\n",
      "  0  0  0  0  0  0  0  0  0  0  0  0  0  0  0  0  0  0  0  0  0  0  0  0\n",
      "  0  0  0  0  0  0  0  0  0  0  0  0  0  0  0  0  0  0  0  0  0  0  0  0\n",
      "  0  0  0  0 18  2 13  1  6  5 10  1 15 19  5 13 10  1  9  4 23  7 15  4\n",
      "  4  1 21  2 12 20]\n"
     ]
    }
   ],
   "source": [
    "max_len = 150  # Maximum length of each sequence (number of characters)\n",
    "\n",
    "tokenizer = Tokenizer(char_level=True) \n",
    "tokenizer.fit_on_texts(texts)\n",
    "\n",
    "char_index = tokenizer.word_index\n",
    "print(f\"Found {len(char_index)} unique characters.\")\n",
    "\n",
    "sequences = tokenizer.texts_to_sequences(texts)\n",
    "print(sequences[0])\n",
    "\n",
    "text_data = pad_sequences(sequences, maxlen=max_len)\n",
    "print(text_data[0])\n",
    "\n",
    "labels = to_categorical(labels, num_classes=6)\n",
    "labels = np.array(labels)\n"
   ]
  },
  {
   "cell_type": "code",
   "execution_count": 19,
   "id": "fbd35bd5",
   "metadata": {},
   "outputs": [
    {
     "data": {
      "text/plain": [
       "array([1., 0., 0., 0., 0., 0.], dtype=float32)"
      ]
     },
     "execution_count": 19,
     "metadata": {},
     "output_type": "execute_result"
    }
   ],
   "source": [
    "labels[0]"
   ]
  },
  {
   "cell_type": "code",
   "execution_count": 20,
   "id": "f712fbd2",
   "metadata": {},
   "outputs": [
    {
     "data": {
      "text/plain": [
       "((143680, 150), (143680, 6))"
      ]
     },
     "execution_count": 20,
     "metadata": {},
     "output_type": "execute_result"
    }
   ],
   "source": [
    "text_data.shape, labels.shape"
   ]
  },
  {
   "cell_type": "code",
   "execution_count": 21,
   "id": "26f63448",
   "metadata": {},
   "outputs": [],
   "source": [
    "# Initialize the model\n",
    "model = Sequential()\n",
    "\n",
    "# Add an Embedding layer to handle character embeddings\n",
    "model.add(Embedding(len(char_index) + 1, 32, input_length=max_len))  # Add +1 for the unknown character\n",
    "model.add(LSTM(64))  # LSTM layer with 64 units\n",
    "model.add(Dense(6, activation='sigmoid'))  # Output layer with sigmoid activation for binary classification\n"
   ]
  },
  {
   "cell_type": "code",
   "execution_count": 22,
   "id": "3eb47b1f",
   "metadata": {},
   "outputs": [],
   "source": [
    "\n",
    "model.compile(loss='categorical_crossentropy', optimizer='adam', metrics=['accuracy'])\n"
   ]
  },
  {
   "cell_type": "code",
   "execution_count": 23,
   "id": "93d96ff7",
   "metadata": {},
   "outputs": [
    {
     "name": "stdout",
     "output_type": "stream",
     "text": [
      "Epoch 1/5\n",
      "4041/4041 [==============================] - 240s 59ms/step - loss: 0.3100 - accuracy: 0.8868 - val_loss: 0.1523 - val_accuracy: 0.9486\n",
      "Epoch 2/5\n",
      "4041/4041 [==============================] - 235s 58ms/step - loss: 0.1110 - accuracy: 0.9623 - val_loss: 0.0856 - val_accuracy: 0.9681\n",
      "Epoch 3/5\n",
      "4041/4041 [==============================] - 243s 60ms/step - loss: 0.0708 - accuracy: 0.9756 - val_loss: 0.0545 - val_accuracy: 0.9813\n",
      "Epoch 4/5\n",
      "4041/4041 [==============================] - 238s 59ms/step - loss: 0.0444 - accuracy: 0.9848 - val_loss: 0.0329 - val_accuracy: 0.9896\n",
      "Epoch 5/5\n",
      "4041/4041 [==============================] - 236s 58ms/step - loss: 0.0296 - accuracy: 0.9903 - val_loss: 0.0243 - val_accuracy: 0.9919\n"
     ]
    },
    {
     "data": {
      "text/plain": [
       "<keras.src.callbacks.History at 0x7fa929dd68e0>"
      ]
     },
     "execution_count": 23,
     "metadata": {},
     "output_type": "execute_result"
    }
   ],
   "source": [
    "# Training the model\n",
    "epochs = 5\n",
    "batch_size = 32\n",
    "model.fit(text_data, labels, epochs=epochs, batch_size=batch_size, validation_split=0.1)\n"
   ]
  },
  {
   "cell_type": "code",
   "execution_count": 24,
   "id": "27bfed07",
   "metadata": {},
   "outputs": [],
   "source": [
    "# preparing the test data\n",
    "\n",
    "test_data = pd.read_csv(\"csv_data/salt-test-v1.csv\")\n",
    "\n",
    "test_data['text'] = test_data['text'].apply(transform_txt_col)\n",
    "test_data_texts = test_data['text']\n",
    "test_data_texts = tokenizer.texts_to_sequences(test_data_texts)\n",
    "test_data_texts = pad_sequences(test_data_texts, maxlen=max_len)\n",
    "\n",
    "test_data['lang'] = test_data['lang'].map(replace_dict)\n",
    "test_data_labels = test_data['lang']\n",
    "test_data_labels = to_categorical(test_data_labels, num_classes=6)\n",
    "test_data_labels = np.array(test_data_labels)\n"
   ]
  },
  {
   "cell_type": "code",
   "execution_count": 25,
   "id": "172b2127",
   "metadata": {
    "scrolled": true
   },
   "outputs": [
    {
     "name": "stdout",
     "output_type": "stream",
     "text": [
      "94/94 [==============================] - 2s 19ms/step - loss: 0.0250 - accuracy: 0.9900\n",
      "Loss: 0.0250179935246706\n"
     ]
    }
   ],
   "source": [
    "loss, accuracy = model.evaluate(test_data_texts, test_data_labels)\n",
    "\n",
    "print(f\"Loss: {loss}\")\n"
   ]
  },
  {
   "cell_type": "code",
   "execution_count": 26,
   "id": "a533b20e",
   "metadata": {},
   "outputs": [
    {
     "name": "stdout",
     "output_type": "stream",
     "text": [
      "1/1 [==============================] - 0s 464ms/step\n",
      "[[0.19496532 0.94518447 0.27659863 0.02539157 0.02784669 0.9657331 ]]\n",
      "[5]\n"
     ]
    }
   ],
   "source": [
    "new_text = \"nibwigya\"\n",
    "\n",
    "\n",
    "new_sequence = tokenizer.texts_to_sequences([new_text])\n",
    "new_data = pad_sequences(new_sequence, maxlen=max_len)\n",
    "\n",
    "predictions = model.predict(new_data)\n",
    "print(predictions)\n",
    "\n",
    "predicted_class = np.argmax(predictions, axis=1)\n",
    "print(predicted_class)"
   ]
  },
  {
   "cell_type": "code",
   "execution_count": 29,
   "id": "0d145383",
   "metadata": {},
   "outputs": [],
   "source": [
    "# import pickle\n",
    "# with open(\"tokenizer.pickle\", \"wb\") as _tok:\n",
    "# #     pickle.dump(tokenizer, _tok)\n",
    "    \n",
    "# with open(\"model_1.pickle\", \"wb\") as _model:\n",
    "# #     pickle.dump(model, _model)\n",
    "    "
   ]
  },
  {
   "cell_type": "code",
   "execution_count": null,
   "id": "34049ae3",
   "metadata": {},
   "outputs": [],
   "source": []
  }
 ],
 "metadata": {
  "kernelspec": {
   "display_name": "Python 3 (ipykernel)",
   "language": "python",
   "name": "python3"
  },
  "language_info": {
   "codemirror_mode": {
    "name": "ipython",
    "version": 3
   },
   "file_extension": ".py",
   "mimetype": "text/x-python",
   "name": "python",
   "nbconvert_exporter": "python",
   "pygments_lexer": "ipython3",
   "version": "3.9.12"
  }
 },
 "nbformat": 4,
 "nbformat_minor": 5
}
